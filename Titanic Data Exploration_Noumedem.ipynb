{
 "cells": [
  {
   "cell_type": "markdown",
   "id": "aa81c92e",
   "metadata": {},
   "source": [
    "## Titanic Data Exploration ##\n",
    "\n",
    "***\n",
    "\n",
    "Over the past several weeks, you've learned the code about how to explore and manipulate a dataset. Now it's time to practice what you've learned on a real-world dataset. \n",
    "\n",
    "***\n",
    "\n",
    "### Titanic Dataset\n",
    "\n",
    "The titanic dataset holds information about the passengers on the titanic. This includes passenger name, characteristics, and if they survived the accident. The dataset has the following columns:\n",
    "\n",
    "    * pclass = passenger class; 1 = first class, 2 = second class, 3 = third class\n",
    "    * survived = passenger survival; 1 = survived, 0 = did not survive\n",
    "    * name = passenger name\n",
    "    * sex = sex of passenger\n",
    "    * age = age of passenger\n",
    "    * sibsp = # of siblings / spouses aboard the Titanic\n",
    "    * parch = # of parents / children aboard the Titanic\n",
    "    * ticket = ticket number\n",
    "    * fare = fare paid by passenger\n",
    "    * cabin = passenger cabin\n",
    "    * embarked = port of embarkation; C = Cherbourg, Q = Queenstown, S = Southampton\n",
    "    * boat = lifeboat assignment \n",
    "    * body = recovered body number\n",
    "    * home dest = anticipated home destination \n",
    "    \n",
    "If you need some additional motivation before starting, please visit: https://www.youtube.com/watch?v=3gK_2XdjOdY\n",
    "\n",
    "### How to work through the dataset:\n",
    "\n",
    "Follow the prompts below to explore, manipulate, and visualize aspects of the dataset. Working with data takes time, so take your time as you start with a messy dataset and turn it into something that shows meaningful visualizations. \n",
    "\n",
    "***\n"
   ]
  },
  {
   "cell_type": "markdown",
   "id": "37d86c21",
   "metadata": {},
   "source": [
    "### Import Libraries and Dataset\n",
    "\n",
    "* Review the entire notebook to determine what you will be expected to do - then, import the necessary libraries\n",
    "* Import the titanic.xlsx dataset"
   ]
  },
  {
   "cell_type": "code",
   "execution_count": 1,
   "id": "3eeffe62",
   "metadata": {},
   "outputs": [],
   "source": [
    "import pandas as pd\n",
    "import numpy as np\n",
    "from matplotlib import pyplot as plt\n",
    "import seaborn as sns\n",
    "%matplotlib inline"
   ]
  },
  {
   "cell_type": "code",
   "execution_count": 2,
   "id": "21e34ffd",
   "metadata": {},
   "outputs": [],
   "source": [
    "tt = pd.read_excel(\"titanic.xlsx\")"
   ]
  },
  {
   "cell_type": "markdown",
   "id": "76794a67",
   "metadata": {},
   "source": [
    "### Determine the Characteristics of the Dataset\n",
    "\n",
    "   * How many columns are in this dataset?\n",
    "   * How many rows are in this dataset?\n",
    "   * What types of data are in each column? Does this make sense with that you know about that column?\n",
    "   * Which variables are numeric? Which variables are categorical? What other variables are left outside of these two groups?\n",
    "   * Which variable could be considered a 'dependent' variable?"
   ]
  },
  {
   "cell_type": "code",
   "execution_count": 3,
   "id": "232d2281",
   "metadata": {},
   "outputs": [
    {
     "data": {
      "text/plain": [
       "(1309, 14)"
      ]
     },
     "execution_count": 3,
     "metadata": {},
     "output_type": "execute_result"
    }
   ],
   "source": [
    "tt.shape # there are 1309 rows and 14 columns"
   ]
  },
  {
   "cell_type": "code",
   "execution_count": 4,
   "id": "0f61eacc",
   "metadata": {},
   "outputs": [
    {
     "name": "stdout",
     "output_type": "stream",
     "text": [
      "<class 'pandas.core.frame.DataFrame'>\n",
      "RangeIndex: 1309 entries, 0 to 1308\n",
      "Data columns (total 14 columns):\n",
      " #   Column     Non-Null Count  Dtype  \n",
      "---  ------     --------------  -----  \n",
      " 0   pclass     1309 non-null   int64  \n",
      " 1   survived   1309 non-null   int64  \n",
      " 2   name       1309 non-null   object \n",
      " 3   sex        1309 non-null   object \n",
      " 4   age        1046 non-null   float64\n",
      " 5   sibsp      1309 non-null   int64  \n",
      " 6   parch      1309 non-null   int64  \n",
      " 7   ticket     1309 non-null   object \n",
      " 8   fare       1308 non-null   float64\n",
      " 9   cabin      295 non-null    object \n",
      " 10  embarked   1307 non-null   object \n",
      " 11  boat       486 non-null    object \n",
      " 12  body       121 non-null    float64\n",
      " 13  home.dest  745 non-null    object \n",
      "dtypes: float64(3), int64(4), object(7)\n",
      "memory usage: 143.3+ KB\n"
     ]
    }
   ],
   "source": [
    "tt.info()"
   ]
  },
  {
   "cell_type": "markdown",
   "id": "efb5a31a",
   "metadata": {},
   "source": [
    "Numerical variables are: 'pclass', 'survived', 'age', 'sibsp', 'parch', 'fare', 'body'\n",
    "Categorical variables (or qualitative data) are: 'name', 'sex', 'ticket', 'cabin', 'embarked', 'boat', 'home.dest'\n",
    "\n",
    "'pclass' could be considered a DV"
   ]
  },
  {
   "cell_type": "markdown",
   "id": "23797b32",
   "metadata": {},
   "source": [
    "### Identify the Missing Data in the Dataset\n",
    "\n",
    "   * Is there any missing data?\n",
    "   * Which columns have any missing data?\n",
    "   * Which column has the most missing information? Which column has the least?"
   ]
  },
  {
   "cell_type": "code",
   "execution_count": 5,
   "id": "26428919",
   "metadata": {},
   "outputs": [
    {
     "data": {
      "text/plain": [
       "pclass          0\n",
       "survived        0\n",
       "name            0\n",
       "sex             0\n",
       "age           263\n",
       "sibsp           0\n",
       "parch           0\n",
       "ticket          0\n",
       "fare            1\n",
       "cabin        1014\n",
       "embarked        2\n",
       "boat          823\n",
       "body         1188\n",
       "home.dest     564\n",
       "dtype: int64"
      ]
     },
     "execution_count": 5,
     "metadata": {},
     "output_type": "execute_result"
    }
   ],
   "source": [
    "tt.isnull().sum()"
   ]
  },
  {
   "cell_type": "markdown",
   "id": "a1c23497",
   "metadata": {},
   "source": [
    "'body' has the most missing information, and 'fare' the least"
   ]
  },
  {
   "cell_type": "markdown",
   "id": "5080d6ce",
   "metadata": {},
   "source": [
    "### Handling the Missing Data in the Dataset\n",
    "\n",
    "   * Remove the columns with excessive missing data (any column missing greater than 500 rows)\n",
    "   * When there is very little missing data, we can make replacements. Replace the missing data for the \"embarked\" column with the most common embarkation point. \n",
    "   * Replace the missing data in \"fare\" with the average fare of the entire sample. \n",
    "   * Remove the rows in the dataset that has missing \"age\" data. \n",
    "   * Recheck is there is any data missing in the dataset. "
   ]
  },
  {
   "cell_type": "code",
   "execution_count": 6,
   "id": "fbeaf9bb",
   "metadata": {},
   "outputs": [],
   "source": [
    "tt.drop(columns = ['cabin', 'boat', 'body', 'home.dest'], inplace = True)"
   ]
  },
  {
   "cell_type": "code",
   "execution_count": 7,
   "id": "6ff7780a",
   "metadata": {},
   "outputs": [
    {
     "data": {
      "text/plain": [
       "0    S\n",
       "dtype: object"
      ]
     },
     "execution_count": 7,
     "metadata": {},
     "output_type": "execute_result"
    }
   ],
   "source": [
    "tt[\"embarked\"].mode()"
   ]
  },
  {
   "cell_type": "code",
   "execution_count": 8,
   "id": "6aaffc85",
   "metadata": {},
   "outputs": [],
   "source": [
    "#Replace the missing data for the \"embarked\" column with the most common embarkation point.\n",
    "\n",
    "tt[\"embarked\"].replace(np.nan, 'S', inplace = True)"
   ]
  },
  {
   "cell_type": "code",
   "execution_count": 9,
   "id": "82cb49b4",
   "metadata": {},
   "outputs": [
    {
     "data": {
      "text/plain": [
       "33.29547928134572"
      ]
     },
     "execution_count": 9,
     "metadata": {},
     "output_type": "execute_result"
    }
   ],
   "source": [
    "tt[\"fare\"].mean()"
   ]
  },
  {
   "cell_type": "code",
   "execution_count": 10,
   "id": "086987a1",
   "metadata": {},
   "outputs": [],
   "source": [
    "#Replace the missing data in \"fare\" with the average fare of the entire sample.\n",
    "\n",
    "tt['fare'].replace(np.nan, 33.3 , inplace = True)"
   ]
  },
  {
   "cell_type": "code",
   "execution_count": 11,
   "id": "12f9a6b1",
   "metadata": {},
   "outputs": [],
   "source": [
    "#Remove the rows in the dataset that has missing \"age\" data. \n",
    "\n",
    "tt.dropna(subset = ['age'], inplace = True)"
   ]
  },
  {
   "cell_type": "code",
   "execution_count": 12,
   "id": "2eddccc6",
   "metadata": {},
   "outputs": [
    {
     "data": {
      "text/plain": [
       "pclass      0\n",
       "survived    0\n",
       "name        0\n",
       "sex         0\n",
       "age         0\n",
       "sibsp       0\n",
       "parch       0\n",
       "ticket      0\n",
       "fare        0\n",
       "embarked    0\n",
       "dtype: int64"
      ]
     },
     "execution_count": 12,
     "metadata": {},
     "output_type": "execute_result"
    }
   ],
   "source": [
    "#Recheck is there is any data missing in the dataset. \n",
    "tt.isnull().sum()"
   ]
  },
  {
   "cell_type": "code",
   "execution_count": 13,
   "id": "24672a7a",
   "metadata": {},
   "outputs": [
    {
     "data": {
      "text/html": [
       "<div>\n",
       "<style scoped>\n",
       "    .dataframe tbody tr th:only-of-type {\n",
       "        vertical-align: middle;\n",
       "    }\n",
       "\n",
       "    .dataframe tbody tr th {\n",
       "        vertical-align: top;\n",
       "    }\n",
       "\n",
       "    .dataframe thead th {\n",
       "        text-align: right;\n",
       "    }\n",
       "</style>\n",
       "<table border=\"1\" class=\"dataframe\">\n",
       "  <thead>\n",
       "    <tr style=\"text-align: right;\">\n",
       "      <th></th>\n",
       "      <th>pclass</th>\n",
       "      <th>survived</th>\n",
       "      <th>name</th>\n",
       "      <th>sex</th>\n",
       "      <th>age</th>\n",
       "      <th>sibsp</th>\n",
       "      <th>parch</th>\n",
       "      <th>ticket</th>\n",
       "      <th>fare</th>\n",
       "      <th>embarked</th>\n",
       "    </tr>\n",
       "  </thead>\n",
       "  <tbody>\n",
       "    <tr>\n",
       "      <th>0</th>\n",
       "      <td>1</td>\n",
       "      <td>1</td>\n",
       "      <td>Allen, Miss. Elisabeth Walton</td>\n",
       "      <td>female</td>\n",
       "      <td>29.0000</td>\n",
       "      <td>0</td>\n",
       "      <td>0</td>\n",
       "      <td>24160</td>\n",
       "      <td>211.3375</td>\n",
       "      <td>S</td>\n",
       "    </tr>\n",
       "    <tr>\n",
       "      <th>1</th>\n",
       "      <td>1</td>\n",
       "      <td>1</td>\n",
       "      <td>Allison, Master. Hudson Trevor</td>\n",
       "      <td>male</td>\n",
       "      <td>0.9167</td>\n",
       "      <td>1</td>\n",
       "      <td>2</td>\n",
       "      <td>113781</td>\n",
       "      <td>151.5500</td>\n",
       "      <td>S</td>\n",
       "    </tr>\n",
       "    <tr>\n",
       "      <th>2</th>\n",
       "      <td>1</td>\n",
       "      <td>0</td>\n",
       "      <td>Allison, Miss. Helen Loraine</td>\n",
       "      <td>female</td>\n",
       "      <td>2.0000</td>\n",
       "      <td>1</td>\n",
       "      <td>2</td>\n",
       "      <td>113781</td>\n",
       "      <td>151.5500</td>\n",
       "      <td>S</td>\n",
       "    </tr>\n",
       "    <tr>\n",
       "      <th>3</th>\n",
       "      <td>1</td>\n",
       "      <td>0</td>\n",
       "      <td>Allison, Mr. Hudson Joshua Creighton</td>\n",
       "      <td>male</td>\n",
       "      <td>30.0000</td>\n",
       "      <td>1</td>\n",
       "      <td>2</td>\n",
       "      <td>113781</td>\n",
       "      <td>151.5500</td>\n",
       "      <td>S</td>\n",
       "    </tr>\n",
       "    <tr>\n",
       "      <th>4</th>\n",
       "      <td>1</td>\n",
       "      <td>0</td>\n",
       "      <td>Allison, Mrs. Hudson J C (Bessie Waldo Daniels)</td>\n",
       "      <td>female</td>\n",
       "      <td>25.0000</td>\n",
       "      <td>1</td>\n",
       "      <td>2</td>\n",
       "      <td>113781</td>\n",
       "      <td>151.5500</td>\n",
       "      <td>S</td>\n",
       "    </tr>\n",
       "  </tbody>\n",
       "</table>\n",
       "</div>"
      ],
      "text/plain": [
       "   pclass  survived                                             name     sex  \\\n",
       "0       1         1                    Allen, Miss. Elisabeth Walton  female   \n",
       "1       1         1                   Allison, Master. Hudson Trevor    male   \n",
       "2       1         0                     Allison, Miss. Helen Loraine  female   \n",
       "3       1         0             Allison, Mr. Hudson Joshua Creighton    male   \n",
       "4       1         0  Allison, Mrs. Hudson J C (Bessie Waldo Daniels)  female   \n",
       "\n",
       "       age  sibsp  parch  ticket      fare embarked  \n",
       "0  29.0000      0      0   24160  211.3375        S  \n",
       "1   0.9167      1      2  113781  151.5500        S  \n",
       "2   2.0000      1      2  113781  151.5500        S  \n",
       "3  30.0000      1      2  113781  151.5500        S  \n",
       "4  25.0000      1      2  113781  151.5500        S  "
      ]
     },
     "execution_count": 13,
     "metadata": {},
     "output_type": "execute_result"
    }
   ],
   "source": [
    "ttc = tt.copy()\n",
    "\n",
    "# Checking copy\n",
    "\n",
    "ttc.head()"
   ]
  },
  {
   "cell_type": "markdown",
   "id": "6671e4b6",
   "metadata": {},
   "source": [
    "### Creating Columns and Replacing Labels\n",
    "\n",
    "   * Create descriptive labels for the categorical columns: pclass, survived, and embarked. Instead of the coding that shows in the dataset, create labels to describe what each category represents (i.e. in the embarked column S = Southhampton)\n",
    "   * Create a new column called \"Titanic Passenger\" and make all values 1\n",
    "   * Create a new column called \"Family Size\" - this column should equal the total number of family members each passenger was traveling with.\n",
    "   * Create a column called \"Travel Alone\" - this column should be 1 if the passenger was traveling alone, and 0 if the passenger was traveling with family. \n",
    "   * Create a column called \"Has Caregiver\" - this column should have a value of 1 if a passenger is less than 13-years old AND the passenger is traveling with at least one family member, otherwise the value should be 0. \n",
    "   * Create a column called \"Crew\" - this column should be 1 if the passenger paid 0 dollars for their ticket, and 0 otherwise. \n",
    "   * Create a column called \"Age Group\" to group passengers by their age (create five categories: infant, child, teen, adult, senior). You can use bins to complete this (or any other method you like). You define the cutoff points for each group you create. \n",
    "   \n",
    "After create new columns, replace the basic coding \"0/1\" with meaningful labels. "
   ]
  },
  {
   "cell_type": "code",
   "execution_count": 14,
   "id": "8a66af47",
   "metadata": {},
   "outputs": [
    {
     "data": {
      "text/html": [
       "<div>\n",
       "<style scoped>\n",
       "    .dataframe tbody tr th:only-of-type {\n",
       "        vertical-align: middle;\n",
       "    }\n",
       "\n",
       "    .dataframe tbody tr th {\n",
       "        vertical-align: top;\n",
       "    }\n",
       "\n",
       "    .dataframe thead th {\n",
       "        text-align: right;\n",
       "    }\n",
       "</style>\n",
       "<table border=\"1\" class=\"dataframe\">\n",
       "  <thead>\n",
       "    <tr style=\"text-align: right;\">\n",
       "      <th></th>\n",
       "      <th>pclass</th>\n",
       "      <th>survived</th>\n",
       "      <th>name</th>\n",
       "      <th>sex</th>\n",
       "      <th>age</th>\n",
       "      <th>sibsp</th>\n",
       "      <th>parch</th>\n",
       "      <th>ticket</th>\n",
       "      <th>fare</th>\n",
       "      <th>embarked</th>\n",
       "    </tr>\n",
       "  </thead>\n",
       "  <tbody>\n",
       "    <tr>\n",
       "      <th>0</th>\n",
       "      <td>first class</td>\n",
       "      <td>survived</td>\n",
       "      <td>Allen, Miss. Elisabeth Walton</td>\n",
       "      <td>female</td>\n",
       "      <td>29.0000</td>\n",
       "      <td>0</td>\n",
       "      <td>0</td>\n",
       "      <td>24160</td>\n",
       "      <td>211.3375</td>\n",
       "      <td>Southhampton</td>\n",
       "    </tr>\n",
       "    <tr>\n",
       "      <th>1</th>\n",
       "      <td>first class</td>\n",
       "      <td>survived</td>\n",
       "      <td>Allison, Master. Hudson Trevor</td>\n",
       "      <td>male</td>\n",
       "      <td>0.9167</td>\n",
       "      <td>1</td>\n",
       "      <td>2</td>\n",
       "      <td>113781</td>\n",
       "      <td>151.5500</td>\n",
       "      <td>Southhampton</td>\n",
       "    </tr>\n",
       "    <tr>\n",
       "      <th>2</th>\n",
       "      <td>first class</td>\n",
       "      <td>did not survived</td>\n",
       "      <td>Allison, Miss. Helen Loraine</td>\n",
       "      <td>female</td>\n",
       "      <td>2.0000</td>\n",
       "      <td>1</td>\n",
       "      <td>2</td>\n",
       "      <td>113781</td>\n",
       "      <td>151.5500</td>\n",
       "      <td>Southhampton</td>\n",
       "    </tr>\n",
       "    <tr>\n",
       "      <th>3</th>\n",
       "      <td>first class</td>\n",
       "      <td>did not survived</td>\n",
       "      <td>Allison, Mr. Hudson Joshua Creighton</td>\n",
       "      <td>male</td>\n",
       "      <td>30.0000</td>\n",
       "      <td>1</td>\n",
       "      <td>2</td>\n",
       "      <td>113781</td>\n",
       "      <td>151.5500</td>\n",
       "      <td>Southhampton</td>\n",
       "    </tr>\n",
       "    <tr>\n",
       "      <th>4</th>\n",
       "      <td>first class</td>\n",
       "      <td>did not survived</td>\n",
       "      <td>Allison, Mrs. Hudson J C (Bessie Waldo Daniels)</td>\n",
       "      <td>female</td>\n",
       "      <td>25.0000</td>\n",
       "      <td>1</td>\n",
       "      <td>2</td>\n",
       "      <td>113781</td>\n",
       "      <td>151.5500</td>\n",
       "      <td>Southhampton</td>\n",
       "    </tr>\n",
       "  </tbody>\n",
       "</table>\n",
       "</div>"
      ],
      "text/plain": [
       "        pclass          survived  \\\n",
       "0  first class          survived   \n",
       "1  first class          survived   \n",
       "2  first class  did not survived   \n",
       "3  first class  did not survived   \n",
       "4  first class  did not survived   \n",
       "\n",
       "                                              name     sex      age  sibsp  \\\n",
       "0                    Allen, Miss. Elisabeth Walton  female  29.0000      0   \n",
       "1                   Allison, Master. Hudson Trevor    male   0.9167      1   \n",
       "2                     Allison, Miss. Helen Loraine  female   2.0000      1   \n",
       "3             Allison, Mr. Hudson Joshua Creighton    male  30.0000      1   \n",
       "4  Allison, Mrs. Hudson J C (Bessie Waldo Daniels)  female  25.0000      1   \n",
       "\n",
       "   parch  ticket      fare      embarked  \n",
       "0      0   24160  211.3375  Southhampton  \n",
       "1      2  113781  151.5500  Southhampton  \n",
       "2      2  113781  151.5500  Southhampton  \n",
       "3      2  113781  151.5500  Southhampton  \n",
       "4      2  113781  151.5500  Southhampton  "
      ]
     },
     "execution_count": 14,
     "metadata": {},
     "output_type": "execute_result"
    }
   ],
   "source": [
    "#create labels to describe what each category represents\n",
    "\n",
    "ttc['embarked'].replace(['S', 'C', 'Q'], ['Southhampton', 'Cherbourg','Queenstown'], inplace = True)\n",
    "\n",
    "ttc['pclass'].replace([1, 2, 3], ['first class', 'second class', 'third class'], inplace = True)\n",
    "\n",
    "ttc['survived'].replace([1,0], ['survived', 'did not survived'], inplace = True)\n",
    "\n",
    "#checking\n",
    "ttc.head()"
   ]
  },
  {
   "cell_type": "code",
   "execution_count": 15,
   "id": "23513597",
   "metadata": {},
   "outputs": [],
   "source": [
    "#Create a new column called \"Titanic Passenger\" and make all values 1\n",
    "\n",
    "ttc['titanic passenger'] = 1\n",
    "ttc['titanic passenger'].replace(1, 'yes', inplace = True)"
   ]
  },
  {
   "cell_type": "code",
   "execution_count": 16,
   "id": "eb94d4a6",
   "metadata": {},
   "outputs": [],
   "source": [
    "#Create a new column called \"Family Size\" \n",
    "#- this column should equal the total number of family members each passenger was traveling with.\n",
    "\n",
    "ttc['family size'] = ttc['sibsp'] + ttc['parch']"
   ]
  },
  {
   "cell_type": "code",
   "execution_count": 17,
   "id": "f0272dbc",
   "metadata": {},
   "outputs": [
    {
     "data": {
      "text/plain": [
       "0     590\n",
       "1     206\n",
       "2     144\n",
       "3      39\n",
       "5      25\n",
       "4      17\n",
       "6      16\n",
       "7       8\n",
       "10      1\n",
       "Name: family size, dtype: int64"
      ]
     },
     "execution_count": 17,
     "metadata": {},
     "output_type": "execute_result"
    }
   ],
   "source": [
    "ttc['family size'].value_counts()"
   ]
  },
  {
   "cell_type": "code",
   "execution_count": 18,
   "id": "dfa6d761",
   "metadata": {},
   "outputs": [],
   "source": [
    "#Create a column called \"Travel Alone\" \n",
    "#- this column should be 1 if the passenger was traveling alone, and 0 if the passenger was traveling with family.\n",
    "\n",
    "ttc['travel alone'] = np.where((ttc['family size'] == 0), 1, 0)"
   ]
  },
  {
   "cell_type": "code",
   "execution_count": 19,
   "id": "bbc8a2c5",
   "metadata": {},
   "outputs": [],
   "source": [
    "#Create a column called \"Has Caregiver\" \n",
    "#- this column should have a value of 1 if a passenger is less than 13-years old \n",
    "#AND the passenger is traveling with at least one family member, otherwise the value should be 0. \n",
    "\n",
    "conditions = [((ttc['age'] < 13) & (ttc['travel alone'] == 0))]\n",
    "outcome = [1]\n",
    "ttc['has caregiver'] = np.select(conditions, outcome, default = 0)\n",
    "ttc['has caregiver'].replace([1, 0], ['yes', 'no'], inplace = True)"
   ]
  },
  {
   "cell_type": "code",
   "execution_count": 20,
   "id": "eac5e766",
   "metadata": {},
   "outputs": [],
   "source": [
    "#Create a column called \"Crew\" \n",
    "#- this column should be 1 if the passenger paid 0 dollars for their ticket, and 0 otherwise.\n",
    "\n",
    "ttc['crew'] = np.where((ttc['fare'] == 0), 1, 0)"
   ]
  },
  {
   "cell_type": "code",
   "execution_count": 21,
   "id": "44eeac42",
   "metadata": {},
   "outputs": [],
   "source": [
    "#Create a column called \"Age Group\" to group passengers by their age \n",
    "#(create five categories: infant, child, teen, adult, senior). \n",
    "#You can use bins to complete this (or any other method you like). \n",
    "#You define the cutoff points for each group you create. \n",
    "# infant = 0-2\n",
    "# child = 3-9\n",
    "# teen = 10-19\n",
    "# adult = 20-60\n",
    "# senior = 61- 80+\n",
    "bins = [0, 2, 9, 19, 60 ,150]\n",
    "bins_labels = ['Infant', 'Child', 'Teen', 'Adult', 'Senior']\n",
    "ttc['age group'] = pd.cut(ttc['age'], bins, labels = bins_labels)"
   ]
  },
  {
   "cell_type": "code",
   "execution_count": 22,
   "id": "58ea87c8",
   "metadata": {},
   "outputs": [],
   "source": [
    "#After create new columns, replace the basic coding \"0/1\" with meaningful labels. \n",
    "\n",
    "ttc['travel alone'].replace([1, 0], ['yes', 'no'], inplace = True)\n",
    "ttc['crew'].replace([0, 1], ['free ticket', 'paid ticket'], inplace = True)"
   ]
  },
  {
   "cell_type": "code",
   "execution_count": 23,
   "id": "115d97df",
   "metadata": {},
   "outputs": [
    {
     "name": "stdout",
     "output_type": "stream",
     "text": [
      "<class 'pandas.core.frame.DataFrame'>\n",
      "Int64Index: 1046 entries, 0 to 1308\n",
      "Data columns (total 16 columns):\n",
      " #   Column             Non-Null Count  Dtype   \n",
      "---  ------             --------------  -----   \n",
      " 0   pclass             1046 non-null   object  \n",
      " 1   survived           1046 non-null   object  \n",
      " 2   name               1046 non-null   object  \n",
      " 3   sex                1046 non-null   object  \n",
      " 4   age                1046 non-null   float64 \n",
      " 5   sibsp              1046 non-null   int64   \n",
      " 6   parch              1046 non-null   int64   \n",
      " 7   ticket             1046 non-null   object  \n",
      " 8   fare               1046 non-null   float64 \n",
      " 9   embarked           1046 non-null   object  \n",
      " 10  titanic passenger  1046 non-null   object  \n",
      " 11  family size        1046 non-null   int64   \n",
      " 12  travel alone       1046 non-null   object  \n",
      " 13  has caregiver      1046 non-null   object  \n",
      " 14  crew               1046 non-null   object  \n",
      " 15  age group          1046 non-null   category\n",
      "dtypes: category(1), float64(2), int64(3), object(10)\n",
      "memory usage: 132.0+ KB\n"
     ]
    }
   ],
   "source": [
    "ttc.info()"
   ]
  },
  {
   "cell_type": "code",
   "execution_count": 24,
   "id": "ae0c110b",
   "metadata": {},
   "outputs": [
    {
     "name": "stdout",
     "output_type": "stream",
     "text": [
      "<class 'pandas.core.frame.DataFrame'>\n",
      "Int64Index: 1046 entries, 0 to 1308\n",
      "Data columns (total 16 columns):\n",
      " #   Column             Non-Null Count  Dtype   \n",
      "---  ------             --------------  -----   \n",
      " 0   pclass             1046 non-null   object  \n",
      " 1   survived           1046 non-null   object  \n",
      " 2   name               1046 non-null   object  \n",
      " 3   sex                1046 non-null   object  \n",
      " 4   age                1046 non-null   float64 \n",
      " 5   sibsp              1046 non-null   int64   \n",
      " 6   parch              1046 non-null   int64   \n",
      " 7   ticket             1046 non-null   object  \n",
      " 8   fare               1046 non-null   float64 \n",
      " 9   embarked           1046 non-null   object  \n",
      " 10  titanic passenger  1046 non-null   object  \n",
      " 11  family size        1046 non-null   int64   \n",
      " 12  travel alone       1046 non-null   object  \n",
      " 13  has caregiver      1046 non-null   object  \n",
      " 14  crew               1046 non-null   object  \n",
      " 15  age group          1046 non-null   category\n",
      "dtypes: category(1), float64(2), int64(3), object(10)\n",
      "memory usage: 132.0+ KB\n"
     ]
    }
   ],
   "source": [
    "#checking\n",
    "ttc.info()"
   ]
  },
  {
   "cell_type": "code",
   "execution_count": 25,
   "id": "bbf8be67",
   "metadata": {},
   "outputs": [
    {
     "data": {
      "text/html": [
       "<div>\n",
       "<style scoped>\n",
       "    .dataframe tbody tr th:only-of-type {\n",
       "        vertical-align: middle;\n",
       "    }\n",
       "\n",
       "    .dataframe tbody tr th {\n",
       "        vertical-align: top;\n",
       "    }\n",
       "\n",
       "    .dataframe thead th {\n",
       "        text-align: right;\n",
       "    }\n",
       "</style>\n",
       "<table border=\"1\" class=\"dataframe\">\n",
       "  <thead>\n",
       "    <tr style=\"text-align: right;\">\n",
       "      <th></th>\n",
       "      <th>pclass</th>\n",
       "      <th>survived</th>\n",
       "      <th>name</th>\n",
       "      <th>sex</th>\n",
       "      <th>age</th>\n",
       "      <th>sibsp</th>\n",
       "      <th>parch</th>\n",
       "      <th>ticket</th>\n",
       "      <th>fare</th>\n",
       "      <th>embarked</th>\n",
       "      <th>titanic passenger</th>\n",
       "      <th>family size</th>\n",
       "      <th>travel alone</th>\n",
       "      <th>has caregiver</th>\n",
       "      <th>crew</th>\n",
       "      <th>age group</th>\n",
       "    </tr>\n",
       "  </thead>\n",
       "  <tbody>\n",
       "    <tr>\n",
       "      <th>0</th>\n",
       "      <td>first class</td>\n",
       "      <td>survived</td>\n",
       "      <td>Allen, Miss. Elisabeth Walton</td>\n",
       "      <td>female</td>\n",
       "      <td>29.0000</td>\n",
       "      <td>0</td>\n",
       "      <td>0</td>\n",
       "      <td>24160</td>\n",
       "      <td>211.3375</td>\n",
       "      <td>Southhampton</td>\n",
       "      <td>yes</td>\n",
       "      <td>0</td>\n",
       "      <td>yes</td>\n",
       "      <td>no</td>\n",
       "      <td>free ticket</td>\n",
       "      <td>Adult</td>\n",
       "    </tr>\n",
       "    <tr>\n",
       "      <th>1</th>\n",
       "      <td>first class</td>\n",
       "      <td>survived</td>\n",
       "      <td>Allison, Master. Hudson Trevor</td>\n",
       "      <td>male</td>\n",
       "      <td>0.9167</td>\n",
       "      <td>1</td>\n",
       "      <td>2</td>\n",
       "      <td>113781</td>\n",
       "      <td>151.5500</td>\n",
       "      <td>Southhampton</td>\n",
       "      <td>yes</td>\n",
       "      <td>3</td>\n",
       "      <td>no</td>\n",
       "      <td>yes</td>\n",
       "      <td>free ticket</td>\n",
       "      <td>Infant</td>\n",
       "    </tr>\n",
       "    <tr>\n",
       "      <th>2</th>\n",
       "      <td>first class</td>\n",
       "      <td>did not survived</td>\n",
       "      <td>Allison, Miss. Helen Loraine</td>\n",
       "      <td>female</td>\n",
       "      <td>2.0000</td>\n",
       "      <td>1</td>\n",
       "      <td>2</td>\n",
       "      <td>113781</td>\n",
       "      <td>151.5500</td>\n",
       "      <td>Southhampton</td>\n",
       "      <td>yes</td>\n",
       "      <td>3</td>\n",
       "      <td>no</td>\n",
       "      <td>yes</td>\n",
       "      <td>free ticket</td>\n",
       "      <td>Infant</td>\n",
       "    </tr>\n",
       "    <tr>\n",
       "      <th>3</th>\n",
       "      <td>first class</td>\n",
       "      <td>did not survived</td>\n",
       "      <td>Allison, Mr. Hudson Joshua Creighton</td>\n",
       "      <td>male</td>\n",
       "      <td>30.0000</td>\n",
       "      <td>1</td>\n",
       "      <td>2</td>\n",
       "      <td>113781</td>\n",
       "      <td>151.5500</td>\n",
       "      <td>Southhampton</td>\n",
       "      <td>yes</td>\n",
       "      <td>3</td>\n",
       "      <td>no</td>\n",
       "      <td>no</td>\n",
       "      <td>free ticket</td>\n",
       "      <td>Adult</td>\n",
       "    </tr>\n",
       "    <tr>\n",
       "      <th>4</th>\n",
       "      <td>first class</td>\n",
       "      <td>did not survived</td>\n",
       "      <td>Allison, Mrs. Hudson J C (Bessie Waldo Daniels)</td>\n",
       "      <td>female</td>\n",
       "      <td>25.0000</td>\n",
       "      <td>1</td>\n",
       "      <td>2</td>\n",
       "      <td>113781</td>\n",
       "      <td>151.5500</td>\n",
       "      <td>Southhampton</td>\n",
       "      <td>yes</td>\n",
       "      <td>3</td>\n",
       "      <td>no</td>\n",
       "      <td>no</td>\n",
       "      <td>free ticket</td>\n",
       "      <td>Adult</td>\n",
       "    </tr>\n",
       "  </tbody>\n",
       "</table>\n",
       "</div>"
      ],
      "text/plain": [
       "        pclass          survived  \\\n",
       "0  first class          survived   \n",
       "1  first class          survived   \n",
       "2  first class  did not survived   \n",
       "3  first class  did not survived   \n",
       "4  first class  did not survived   \n",
       "\n",
       "                                              name     sex      age  sibsp  \\\n",
       "0                    Allen, Miss. Elisabeth Walton  female  29.0000      0   \n",
       "1                   Allison, Master. Hudson Trevor    male   0.9167      1   \n",
       "2                     Allison, Miss. Helen Loraine  female   2.0000      1   \n",
       "3             Allison, Mr. Hudson Joshua Creighton    male  30.0000      1   \n",
       "4  Allison, Mrs. Hudson J C (Bessie Waldo Daniels)  female  25.0000      1   \n",
       "\n",
       "   parch  ticket      fare      embarked titanic passenger  family size  \\\n",
       "0      0   24160  211.3375  Southhampton               yes            0   \n",
       "1      2  113781  151.5500  Southhampton               yes            3   \n",
       "2      2  113781  151.5500  Southhampton               yes            3   \n",
       "3      2  113781  151.5500  Southhampton               yes            3   \n",
       "4      2  113781  151.5500  Southhampton               yes            3   \n",
       "\n",
       "  travel alone has caregiver         crew age group  \n",
       "0          yes            no  free ticket     Adult  \n",
       "1           no           yes  free ticket    Infant  \n",
       "2           no           yes  free ticket    Infant  \n",
       "3           no            no  free ticket     Adult  \n",
       "4           no            no  free ticket     Adult  "
      ]
     },
     "execution_count": 25,
     "metadata": {},
     "output_type": "execute_result"
    }
   ],
   "source": [
    "ttc.head()"
   ]
  },
  {
   "cell_type": "markdown",
   "id": "e1a4c929",
   "metadata": {},
   "source": [
    "### Determine Frequencies of Groups\n",
    "\n",
    "* How many passengers fall into each category? Determine how many passengers fall into each group for <b>each</b> categorical vairable (including the ones you just created). "
   ]
  },
  {
   "cell_type": "code",
   "execution_count": 26,
   "id": "61beddcd",
   "metadata": {},
   "outputs": [
    {
     "data": {
      "text/plain": [
       "pclass      \n",
       "third class     501\n",
       "first class     284\n",
       "second class    261\n",
       "dtype: int64"
      ]
     },
     "execution_count": 26,
     "metadata": {},
     "output_type": "execute_result"
    }
   ],
   "source": [
    "ttc[['pclass']].value_counts()       "
   ]
  },
  {
   "cell_type": "code",
   "execution_count": 27,
   "id": "b8e6db13",
   "metadata": {},
   "outputs": [
    {
     "data": {
      "text/plain": [
       "did not survived    619\n",
       "survived            427\n",
       "Name: survived, dtype: int64"
      ]
     },
     "execution_count": 27,
     "metadata": {},
     "output_type": "execute_result"
    }
   ],
   "source": [
    "ttc['survived'].value_counts()           "
   ]
  },
  {
   "cell_type": "code",
   "execution_count": 28,
   "id": "67fdc336",
   "metadata": {},
   "outputs": [
    {
     "data": {
      "text/plain": [
       "male      658\n",
       "female    388\n",
       "Name: sex, dtype: int64"
      ]
     },
     "execution_count": 28,
     "metadata": {},
     "output_type": "execute_result"
    }
   ],
   "source": [
    "ttc['sex'].value_counts()                  "
   ]
  },
  {
   "cell_type": "code",
   "execution_count": 29,
   "id": "4ecb7f39",
   "metadata": {},
   "outputs": [
    {
     "data": {
      "text/plain": [
       "Southhampton    784\n",
       "Cherbourg       212\n",
       "Queenstown       50\n",
       "Name: embarked, dtype: int64"
      ]
     },
     "execution_count": 29,
     "metadata": {},
     "output_type": "execute_result"
    }
   ],
   "source": [
    "ttc['embarked'].value_counts()             "
   ]
  },
  {
   "cell_type": "code",
   "execution_count": 30,
   "id": "418953c0",
   "metadata": {},
   "outputs": [
    {
     "data": {
      "text/plain": [
       "yes    590\n",
       "no     456\n",
       "Name: travel alone, dtype: int64"
      ]
     },
     "execution_count": 30,
     "metadata": {},
     "output_type": "execute_result"
    }
   ],
   "source": [
    "ttc['travel alone'].value_counts()         "
   ]
  },
  {
   "cell_type": "code",
   "execution_count": 31,
   "id": "4cca26ae",
   "metadata": {},
   "outputs": [
    {
     "data": {
      "text/plain": [
       "has caregiver\n",
       "no               955\n",
       "yes               91\n",
       "dtype: int64"
      ]
     },
     "execution_count": 31,
     "metadata": {},
     "output_type": "execute_result"
    }
   ],
   "source": [
    "ttc[['has caregiver']] .value_counts()"
   ]
  },
  {
   "cell_type": "code",
   "execution_count": 32,
   "id": "490cdad5",
   "metadata": {},
   "outputs": [
    {
     "data": {
      "text/plain": [
       "crew       \n",
       "free ticket    1038\n",
       "paid ticket       8\n",
       "dtype: int64"
      ]
     },
     "execution_count": 32,
     "metadata": {},
     "output_type": "execute_result"
    }
   ],
   "source": [
    "ttc[['crew']].value_counts()"
   ]
  },
  {
   "cell_type": "code",
   "execution_count": 33,
   "id": "d3308cdf",
   "metadata": {},
   "outputs": [
    {
     "data": {
      "text/plain": [
       "age group\n",
       "Adult        788\n",
       "Teen         143\n",
       "Child         48\n",
       "Infant        34\n",
       "Senior        33\n",
       "dtype: int64"
      ]
     },
     "execution_count": 33,
     "metadata": {},
     "output_type": "execute_result"
    }
   ],
   "source": [
    "ttc[['age group']].value_counts()"
   ]
  },
  {
   "cell_type": "markdown",
   "id": "9a8c7799",
   "metadata": {},
   "source": [
    "### Determine the Distribution of Numeric Data\n",
    "\n",
    "* What are the summary statistics for <b>each</b> numeric variable in the dataset? Summary statistics include:\n",
    "    * Mean\n",
    "    * Median\n",
    "    * Mode\n",
    "    * Standard Deviation\n",
    "    * Range"
   ]
  },
  {
   "cell_type": "code",
   "execution_count": 34,
   "id": "3b3167f6",
   "metadata": {},
   "outputs": [
    {
     "data": {
      "text/html": [
       "<div>\n",
       "<style scoped>\n",
       "    .dataframe tbody tr th:only-of-type {\n",
       "        vertical-align: middle;\n",
       "    }\n",
       "\n",
       "    .dataframe tbody tr th {\n",
       "        vertical-align: top;\n",
       "    }\n",
       "\n",
       "    .dataframe thead th {\n",
       "        text-align: right;\n",
       "    }\n",
       "</style>\n",
       "<table border=\"1\" class=\"dataframe\">\n",
       "  <thead>\n",
       "    <tr style=\"text-align: right;\">\n",
       "      <th></th>\n",
       "      <th>age</th>\n",
       "      <th>sibsp</th>\n",
       "      <th>parch</th>\n",
       "      <th>fare</th>\n",
       "      <th>family size</th>\n",
       "    </tr>\n",
       "  </thead>\n",
       "  <tbody>\n",
       "    <tr>\n",
       "      <th>count</th>\n",
       "      <td>1046.000000</td>\n",
       "      <td>1046.000000</td>\n",
       "      <td>1046.00000</td>\n",
       "      <td>1046.000000</td>\n",
       "      <td>1046.000000</td>\n",
       "    </tr>\n",
       "    <tr>\n",
       "      <th>mean</th>\n",
       "      <td>29.881135</td>\n",
       "      <td>0.502868</td>\n",
       "      <td>0.42065</td>\n",
       "      <td>36.682843</td>\n",
       "      <td>0.923518</td>\n",
       "    </tr>\n",
       "    <tr>\n",
       "      <th>std</th>\n",
       "      <td>14.413500</td>\n",
       "      <td>0.912167</td>\n",
       "      <td>0.83975</td>\n",
       "      <td>55.705959</td>\n",
       "      <td>1.452891</td>\n",
       "    </tr>\n",
       "    <tr>\n",
       "      <th>min</th>\n",
       "      <td>0.166700</td>\n",
       "      <td>0.000000</td>\n",
       "      <td>0.00000</td>\n",
       "      <td>0.000000</td>\n",
       "      <td>0.000000</td>\n",
       "    </tr>\n",
       "    <tr>\n",
       "      <th>25%</th>\n",
       "      <td>21.000000</td>\n",
       "      <td>0.000000</td>\n",
       "      <td>0.00000</td>\n",
       "      <td>8.050000</td>\n",
       "      <td>0.000000</td>\n",
       "    </tr>\n",
       "    <tr>\n",
       "      <th>50%</th>\n",
       "      <td>28.000000</td>\n",
       "      <td>0.000000</td>\n",
       "      <td>0.00000</td>\n",
       "      <td>15.800000</td>\n",
       "      <td>0.000000</td>\n",
       "    </tr>\n",
       "    <tr>\n",
       "      <th>75%</th>\n",
       "      <td>39.000000</td>\n",
       "      <td>1.000000</td>\n",
       "      <td>1.00000</td>\n",
       "      <td>35.500000</td>\n",
       "      <td>1.000000</td>\n",
       "    </tr>\n",
       "    <tr>\n",
       "      <th>max</th>\n",
       "      <td>80.000000</td>\n",
       "      <td>8.000000</td>\n",
       "      <td>6.00000</td>\n",
       "      <td>512.329200</td>\n",
       "      <td>10.000000</td>\n",
       "    </tr>\n",
       "  </tbody>\n",
       "</table>\n",
       "</div>"
      ],
      "text/plain": [
       "               age        sibsp       parch         fare  family size\n",
       "count  1046.000000  1046.000000  1046.00000  1046.000000  1046.000000\n",
       "mean     29.881135     0.502868     0.42065    36.682843     0.923518\n",
       "std      14.413500     0.912167     0.83975    55.705959     1.452891\n",
       "min       0.166700     0.000000     0.00000     0.000000     0.000000\n",
       "25%      21.000000     0.000000     0.00000     8.050000     0.000000\n",
       "50%      28.000000     0.000000     0.00000    15.800000     0.000000\n",
       "75%      39.000000     1.000000     1.00000    35.500000     1.000000\n",
       "max      80.000000     8.000000     6.00000   512.329200    10.000000"
      ]
     },
     "execution_count": 34,
     "metadata": {},
     "output_type": "execute_result"
    }
   ],
   "source": [
    "ttc.describe()"
   ]
  },
  {
   "cell_type": "code",
   "execution_count": 35,
   "id": "9f8d99f8",
   "metadata": {},
   "outputs": [
    {
     "data": {
      "text/html": [
       "<div>\n",
       "<style scoped>\n",
       "    .dataframe tbody tr th:only-of-type {\n",
       "        vertical-align: middle;\n",
       "    }\n",
       "\n",
       "    .dataframe tbody tr th {\n",
       "        vertical-align: top;\n",
       "    }\n",
       "\n",
       "    .dataframe thead th {\n",
       "        text-align: right;\n",
       "    }\n",
       "</style>\n",
       "<table border=\"1\" class=\"dataframe\">\n",
       "  <thead>\n",
       "    <tr style=\"text-align: right;\">\n",
       "      <th></th>\n",
       "      <th>pclass</th>\n",
       "      <th>survived</th>\n",
       "      <th>name</th>\n",
       "      <th>sex</th>\n",
       "      <th>age</th>\n",
       "      <th>sibsp</th>\n",
       "      <th>parch</th>\n",
       "      <th>ticket</th>\n",
       "      <th>fare</th>\n",
       "      <th>embarked</th>\n",
       "      <th>titanic passenger</th>\n",
       "      <th>family size</th>\n",
       "      <th>travel alone</th>\n",
       "      <th>has caregiver</th>\n",
       "      <th>crew</th>\n",
       "      <th>age group</th>\n",
       "    </tr>\n",
       "  </thead>\n",
       "  <tbody>\n",
       "    <tr>\n",
       "      <th>0</th>\n",
       "      <td>third class</td>\n",
       "      <td>did not survived</td>\n",
       "      <td>Connolly, Miss. Kate</td>\n",
       "      <td>male</td>\n",
       "      <td>24.0</td>\n",
       "      <td>0.0</td>\n",
       "      <td>0.0</td>\n",
       "      <td>CA 2144</td>\n",
       "      <td>13.0</td>\n",
       "      <td>Southhampton</td>\n",
       "      <td>yes</td>\n",
       "      <td>0.0</td>\n",
       "      <td>yes</td>\n",
       "      <td>no</td>\n",
       "      <td>free ticket</td>\n",
       "      <td>Adult</td>\n",
       "    </tr>\n",
       "    <tr>\n",
       "      <th>1</th>\n",
       "      <td>NaN</td>\n",
       "      <td>NaN</td>\n",
       "      <td>Kelly, Mr. James</td>\n",
       "      <td>NaN</td>\n",
       "      <td>NaN</td>\n",
       "      <td>NaN</td>\n",
       "      <td>NaN</td>\n",
       "      <td>NaN</td>\n",
       "      <td>NaN</td>\n",
       "      <td>NaN</td>\n",
       "      <td>NaN</td>\n",
       "      <td>NaN</td>\n",
       "      <td>NaN</td>\n",
       "      <td>NaN</td>\n",
       "      <td>NaN</td>\n",
       "      <td>NaN</td>\n",
       "    </tr>\n",
       "  </tbody>\n",
       "</table>\n",
       "</div>"
      ],
      "text/plain": [
       "        pclass          survived                  name   sex   age  sibsp  \\\n",
       "0  third class  did not survived  Connolly, Miss. Kate  male  24.0    0.0   \n",
       "1          NaN               NaN      Kelly, Mr. James   NaN   NaN    NaN   \n",
       "\n",
       "   parch   ticket  fare      embarked titanic passenger  family size  \\\n",
       "0    0.0  CA 2144  13.0  Southhampton               yes          0.0   \n",
       "1    NaN      NaN   NaN           NaN               NaN          NaN   \n",
       "\n",
       "  travel alone has caregiver         crew age group  \n",
       "0          yes            no  free ticket     Adult  \n",
       "1          NaN           NaN          NaN       NaN  "
      ]
     },
     "execution_count": 35,
     "metadata": {},
     "output_type": "execute_result"
    }
   ],
   "source": [
    "ttc.mode()"
   ]
  },
  {
   "cell_type": "code",
   "execution_count": 36,
   "id": "429b1838",
   "metadata": {},
   "outputs": [
    {
     "name": "stdout",
     "output_type": "stream",
     "text": [
      "79.8333\n",
      "8\n",
      "6\n",
      "512.3292\n",
      "10\n"
     ]
    }
   ],
   "source": [
    "# Range\n",
    "age_range = ttc['age'].max() - ttc['age'].min()\n",
    "sibsp_range = ttc['sibsp'].max() - ttc['sibsp'].min()\n",
    "parch_range = ttc['parch'].max() - ttc['parch'].min()\n",
    "fare_range = ttc['fare'].max() - ttc['fare'].min()\n",
    "family_size_range = ttc['family size'].max() - ttc['family size'].min()\n",
    "\n",
    "print(age_range)\n",
    "print(sibsp_range)\n",
    "print(parch_range)\n",
    "print(fare_range)\n",
    "print(family_size_range)"
   ]
  },
  {
   "cell_type": "markdown",
   "id": "9bd6de11",
   "metadata": {},
   "source": [
    "### Relationships between Variables\n",
    "\n",
    "* Determine the relationship between each variable and the variable \"survived\". This is our primary variable of interest -- did this passenger survive the accident? Did the characteristics of the passenger have any relationship with their survival?\n",
    "    * <b>pclass</b>: how many survivors are in each passenger class? does a pattern emerge? which class has the most survivors? which has the least?\n",
    "    * <b>sex</b>: how many survivors are in each variable group? does a pattern emerge? which group has the most survivors? which has the least?\n",
    "    * <b>age</b>: how does the average age of the passenger differ based on survival group? \n",
    "    * <b>age group</b>: how many survivors are in each variable group? does a pattern emerge? which group has the most survivors? which has the least?\n",
    "    * <b>family size</b>: how many survivors are in each variable group? does a pattern emerge? which group has the most survivors? which has the least?\n",
    "    * <b>travel alone</b>: how many survivors are in each variable group? does a pattern emerge? which group has the most survivors? which has the least?\n",
    "    * <b>crew</b>: how many survivors are in each variable group? does a pattern emerge? which group has the most survivors? which has the least?\n",
    "    * <b>has caregiver</b>: how many survivors are in each variable group? does a pattern emerge? which group has the most survivors? which has the least?\n",
    "    * <b>fare</b>: how does the average fare the passenger paid differ based on survival group? \n",
    "    * <b>embarked</b>: how many survivors are in each variable group? does a pattern emerge? which group has the most survivors? which has the least?\n",
    "    \n",
    "Based on what you learn working through this section, make (2) statements about what characteristics of passenger most influenced their survival."
   ]
  },
  {
   "cell_type": "code",
   "execution_count": 37,
   "id": "25428c6c",
   "metadata": {},
   "outputs": [
    {
     "data": {
      "text/html": [
       "<div>\n",
       "<style scoped>\n",
       "    .dataframe tbody tr th:only-of-type {\n",
       "        vertical-align: middle;\n",
       "    }\n",
       "\n",
       "    .dataframe tbody tr th {\n",
       "        vertical-align: top;\n",
       "    }\n",
       "\n",
       "    .dataframe thead th {\n",
       "        text-align: right;\n",
       "    }\n",
       "</style>\n",
       "<table border=\"1\" class=\"dataframe\">\n",
       "  <thead>\n",
       "    <tr style=\"text-align: right;\">\n",
       "      <th>pclass</th>\n",
       "      <th>first class</th>\n",
       "      <th>second class</th>\n",
       "      <th>third class</th>\n",
       "      <th>All</th>\n",
       "    </tr>\n",
       "    <tr>\n",
       "      <th>survived</th>\n",
       "      <th></th>\n",
       "      <th></th>\n",
       "      <th></th>\n",
       "      <th></th>\n",
       "    </tr>\n",
       "  </thead>\n",
       "  <tbody>\n",
       "    <tr>\n",
       "      <th>did not survived</th>\n",
       "      <td>103</td>\n",
       "      <td>146</td>\n",
       "      <td>370</td>\n",
       "      <td>619</td>\n",
       "    </tr>\n",
       "    <tr>\n",
       "      <th>survived</th>\n",
       "      <td>181</td>\n",
       "      <td>115</td>\n",
       "      <td>131</td>\n",
       "      <td>427</td>\n",
       "    </tr>\n",
       "    <tr>\n",
       "      <th>All</th>\n",
       "      <td>284</td>\n",
       "      <td>261</td>\n",
       "      <td>501</td>\n",
       "      <td>1046</td>\n",
       "    </tr>\n",
       "  </tbody>\n",
       "</table>\n",
       "</div>"
      ],
      "text/plain": [
       "pclass            first class  second class  third class   All\n",
       "survived                                                      \n",
       "did not survived          103           146          370   619\n",
       "survived                  181           115          131   427\n",
       "All                       284           261          501  1046"
      ]
     },
     "execution_count": 37,
     "metadata": {},
     "output_type": "execute_result"
    }
   ],
   "source": [
    "pd.crosstab(ttc['survived'], ttc['pclass'], margins = True)\n",
    "\n",
    "#first class passengers survived the most and had less loss, contrary to the third class passengers"
   ]
  },
  {
   "cell_type": "code",
   "execution_count": 38,
   "id": "fd2244da",
   "metadata": {},
   "outputs": [
    {
     "data": {
      "text/html": [
       "<div>\n",
       "<style scoped>\n",
       "    .dataframe tbody tr th:only-of-type {\n",
       "        vertical-align: middle;\n",
       "    }\n",
       "\n",
       "    .dataframe tbody tr th {\n",
       "        vertical-align: top;\n",
       "    }\n",
       "\n",
       "    .dataframe thead th {\n",
       "        text-align: right;\n",
       "    }\n",
       "</style>\n",
       "<table border=\"1\" class=\"dataframe\">\n",
       "  <thead>\n",
       "    <tr style=\"text-align: right;\">\n",
       "      <th>sex</th>\n",
       "      <th>female</th>\n",
       "      <th>male</th>\n",
       "      <th>All</th>\n",
       "    </tr>\n",
       "    <tr>\n",
       "      <th>survived</th>\n",
       "      <th></th>\n",
       "      <th></th>\n",
       "      <th></th>\n",
       "    </tr>\n",
       "  </thead>\n",
       "  <tbody>\n",
       "    <tr>\n",
       "      <th>did not survived</th>\n",
       "      <td>96</td>\n",
       "      <td>523</td>\n",
       "      <td>619</td>\n",
       "    </tr>\n",
       "    <tr>\n",
       "      <th>survived</th>\n",
       "      <td>292</td>\n",
       "      <td>135</td>\n",
       "      <td>427</td>\n",
       "    </tr>\n",
       "    <tr>\n",
       "      <th>All</th>\n",
       "      <td>388</td>\n",
       "      <td>658</td>\n",
       "      <td>1046</td>\n",
       "    </tr>\n",
       "  </tbody>\n",
       "</table>\n",
       "</div>"
      ],
      "text/plain": [
       "sex               female  male   All\n",
       "survived                            \n",
       "did not survived      96   523   619\n",
       "survived             292   135   427\n",
       "All                  388   658  1046"
      ]
     },
     "execution_count": 38,
     "metadata": {},
     "output_type": "execute_result"
    }
   ],
   "source": [
    "pd.crosstab(ttc['survived'], ttc['sex'], margins = True)\n",
    "\n",
    "#most of non survivors are male, while most survivors are female"
   ]
  },
  {
   "cell_type": "code",
   "execution_count": 39,
   "id": "f577ea2f",
   "metadata": {},
   "outputs": [
    {
     "data": {
      "text/html": [
       "<div>\n",
       "<style scoped>\n",
       "    .dataframe tbody tr th:only-of-type {\n",
       "        vertical-align: middle;\n",
       "    }\n",
       "\n",
       "    .dataframe tbody tr th {\n",
       "        vertical-align: top;\n",
       "    }\n",
       "\n",
       "    .dataframe thead th {\n",
       "        text-align: right;\n",
       "    }\n",
       "</style>\n",
       "<table border=\"1\" class=\"dataframe\">\n",
       "  <thead>\n",
       "    <tr style=\"text-align: right;\">\n",
       "      <th></th>\n",
       "      <th>age</th>\n",
       "    </tr>\n",
       "    <tr>\n",
       "      <th>survived</th>\n",
       "      <th></th>\n",
       "    </tr>\n",
       "  </thead>\n",
       "  <tbody>\n",
       "    <tr>\n",
       "      <th>did not survived</th>\n",
       "      <td>30.545369</td>\n",
       "    </tr>\n",
       "    <tr>\n",
       "      <th>survived</th>\n",
       "      <td>28.918228</td>\n",
       "    </tr>\n",
       "  </tbody>\n",
       "</table>\n",
       "</div>"
      ],
      "text/plain": [
       "                        age\n",
       "survived                   \n",
       "did not survived  30.545369\n",
       "survived          28.918228"
      ]
     },
     "execution_count": 39,
     "metadata": {},
     "output_type": "execute_result"
    }
   ],
   "source": [
    "ttc[['age']].groupby(ttc['survived']).mean()\n",
    "\n",
    "#the avg survivor is around 29 years old and the perrished passenger is around 30 to 31 years old"
   ]
  },
  {
   "cell_type": "code",
   "execution_count": 40,
   "id": "37d908ef",
   "metadata": {},
   "outputs": [
    {
     "data": {
      "text/html": [
       "<div>\n",
       "<style scoped>\n",
       "    .dataframe tbody tr th:only-of-type {\n",
       "        vertical-align: middle;\n",
       "    }\n",
       "\n",
       "    .dataframe tbody tr th {\n",
       "        vertical-align: top;\n",
       "    }\n",
       "\n",
       "    .dataframe thead th {\n",
       "        text-align: right;\n",
       "    }\n",
       "</style>\n",
       "<table border=\"1\" class=\"dataframe\">\n",
       "  <thead>\n",
       "    <tr style=\"text-align: right;\">\n",
       "      <th>age group</th>\n",
       "      <th>Infant</th>\n",
       "      <th>Child</th>\n",
       "      <th>Teen</th>\n",
       "      <th>Adult</th>\n",
       "      <th>Senior</th>\n",
       "      <th>All</th>\n",
       "    </tr>\n",
       "    <tr>\n",
       "      <th>survived</th>\n",
       "      <th></th>\n",
       "      <th></th>\n",
       "      <th></th>\n",
       "      <th></th>\n",
       "      <th></th>\n",
       "      <th></th>\n",
       "    </tr>\n",
       "  </thead>\n",
       "  <tbody>\n",
       "    <tr>\n",
       "      <th>did not survived</th>\n",
       "      <td>13</td>\n",
       "      <td>19</td>\n",
       "      <td>87</td>\n",
       "      <td>475</td>\n",
       "      <td>25</td>\n",
       "      <td>619</td>\n",
       "    </tr>\n",
       "    <tr>\n",
       "      <th>survived</th>\n",
       "      <td>21</td>\n",
       "      <td>29</td>\n",
       "      <td>56</td>\n",
       "      <td>313</td>\n",
       "      <td>8</td>\n",
       "      <td>427</td>\n",
       "    </tr>\n",
       "    <tr>\n",
       "      <th>All</th>\n",
       "      <td>34</td>\n",
       "      <td>48</td>\n",
       "      <td>143</td>\n",
       "      <td>788</td>\n",
       "      <td>33</td>\n",
       "      <td>1046</td>\n",
       "    </tr>\n",
       "  </tbody>\n",
       "</table>\n",
       "</div>"
      ],
      "text/plain": [
       "age group         Infant  Child  Teen  Adult  Senior   All\n",
       "survived                                                  \n",
       "did not survived      13     19    87    475      25   619\n",
       "survived              21     29    56    313       8   427\n",
       "All                   34     48   143    788      33  1046"
      ]
     },
     "execution_count": 40,
     "metadata": {},
     "output_type": "execute_result"
    }
   ],
   "source": [
    "pd.crosstab(ttc['survived'], ttc['age group'], margins = True)\n",
    "\n",
    "#most survivors are adults with the very least seniors\n",
    "#most perished passengers were adult and the least are infants."
   ]
  },
  {
   "cell_type": "code",
   "execution_count": 41,
   "id": "f7b7025c",
   "metadata": {},
   "outputs": [
    {
     "data": {
      "text/html": [
       "<div>\n",
       "<style scoped>\n",
       "    .dataframe tbody tr th:only-of-type {\n",
       "        vertical-align: middle;\n",
       "    }\n",
       "\n",
       "    .dataframe tbody tr th {\n",
       "        vertical-align: top;\n",
       "    }\n",
       "\n",
       "    .dataframe thead th {\n",
       "        text-align: right;\n",
       "    }\n",
       "</style>\n",
       "<table border=\"1\" class=\"dataframe\">\n",
       "  <thead>\n",
       "    <tr style=\"text-align: right;\">\n",
       "      <th>family size</th>\n",
       "      <th>0</th>\n",
       "      <th>1</th>\n",
       "      <th>2</th>\n",
       "      <th>3</th>\n",
       "      <th>4</th>\n",
       "      <th>5</th>\n",
       "      <th>6</th>\n",
       "      <th>7</th>\n",
       "      <th>10</th>\n",
       "      <th>All</th>\n",
       "    </tr>\n",
       "    <tr>\n",
       "      <th>survived</th>\n",
       "      <th></th>\n",
       "      <th></th>\n",
       "      <th></th>\n",
       "      <th></th>\n",
       "      <th></th>\n",
       "      <th></th>\n",
       "      <th></th>\n",
       "      <th></th>\n",
       "      <th></th>\n",
       "      <th></th>\n",
       "    </tr>\n",
       "  </thead>\n",
       "  <tbody>\n",
       "    <tr>\n",
       "      <th>did not survived</th>\n",
       "      <td>402</td>\n",
       "      <td>93</td>\n",
       "      <td>63</td>\n",
       "      <td>9</td>\n",
       "      <td>11</td>\n",
       "      <td>20</td>\n",
       "      <td>12</td>\n",
       "      <td>8</td>\n",
       "      <td>1</td>\n",
       "      <td>619</td>\n",
       "    </tr>\n",
       "    <tr>\n",
       "      <th>survived</th>\n",
       "      <td>188</td>\n",
       "      <td>113</td>\n",
       "      <td>81</td>\n",
       "      <td>30</td>\n",
       "      <td>6</td>\n",
       "      <td>5</td>\n",
       "      <td>4</td>\n",
       "      <td>0</td>\n",
       "      <td>0</td>\n",
       "      <td>427</td>\n",
       "    </tr>\n",
       "    <tr>\n",
       "      <th>All</th>\n",
       "      <td>590</td>\n",
       "      <td>206</td>\n",
       "      <td>144</td>\n",
       "      <td>39</td>\n",
       "      <td>17</td>\n",
       "      <td>25</td>\n",
       "      <td>16</td>\n",
       "      <td>8</td>\n",
       "      <td>1</td>\n",
       "      <td>1046</td>\n",
       "    </tr>\n",
       "  </tbody>\n",
       "</table>\n",
       "</div>"
      ],
      "text/plain": [
       "family size         0    1    2   3   4   5   6  7  10   All\n",
       "survived                                                    \n",
       "did not survived  402   93   63   9  11  20  12  8   1   619\n",
       "survived          188  113   81  30   6   5   4  0   0   427\n",
       "All               590  206  144  39  17  25  16  8   1  1046"
      ]
     },
     "execution_count": 41,
     "metadata": {},
     "output_type": "execute_result"
    }
   ],
   "source": [
    "pd.crosstab(ttc['survived'], ttc['family size'], margins = True)\n",
    "\n",
    "#passengers whom perrished and survived the most are the ones that had no family on board"
   ]
  },
  {
   "cell_type": "code",
   "execution_count": 42,
   "id": "894e6d39",
   "metadata": {},
   "outputs": [
    {
     "data": {
      "text/html": [
       "<div>\n",
       "<style scoped>\n",
       "    .dataframe tbody tr th:only-of-type {\n",
       "        vertical-align: middle;\n",
       "    }\n",
       "\n",
       "    .dataframe tbody tr th {\n",
       "        vertical-align: top;\n",
       "    }\n",
       "\n",
       "    .dataframe thead th {\n",
       "        text-align: right;\n",
       "    }\n",
       "</style>\n",
       "<table border=\"1\" class=\"dataframe\">\n",
       "  <thead>\n",
       "    <tr style=\"text-align: right;\">\n",
       "      <th>travel alone</th>\n",
       "      <th>no</th>\n",
       "      <th>yes</th>\n",
       "      <th>All</th>\n",
       "    </tr>\n",
       "    <tr>\n",
       "      <th>survived</th>\n",
       "      <th></th>\n",
       "      <th></th>\n",
       "      <th></th>\n",
       "    </tr>\n",
       "  </thead>\n",
       "  <tbody>\n",
       "    <tr>\n",
       "      <th>did not survived</th>\n",
       "      <td>217</td>\n",
       "      <td>402</td>\n",
       "      <td>619</td>\n",
       "    </tr>\n",
       "    <tr>\n",
       "      <th>survived</th>\n",
       "      <td>239</td>\n",
       "      <td>188</td>\n",
       "      <td>427</td>\n",
       "    </tr>\n",
       "    <tr>\n",
       "      <th>All</th>\n",
       "      <td>456</td>\n",
       "      <td>590</td>\n",
       "      <td>1046</td>\n",
       "    </tr>\n",
       "  </tbody>\n",
       "</table>\n",
       "</div>"
      ],
      "text/plain": [
       "travel alone       no  yes   All\n",
       "survived                        \n",
       "did not survived  217  402   619\n",
       "survived          239  188   427\n",
       "All               456  590  1046"
      ]
     },
     "execution_count": 42,
     "metadata": {},
     "output_type": "execute_result"
    }
   ],
   "source": [
    "pd.crosstab(ttc['survived'], ttc['travel alone'], margins = True)\n",
    "\n",
    "#The passengers traveling with family member did not survived the least, and the ones traveling alone survived the least"
   ]
  },
  {
   "cell_type": "code",
   "execution_count": 43,
   "id": "d16e0ea5",
   "metadata": {},
   "outputs": [
    {
     "data": {
      "text/html": [
       "<div>\n",
       "<style scoped>\n",
       "    .dataframe tbody tr th:only-of-type {\n",
       "        vertical-align: middle;\n",
       "    }\n",
       "\n",
       "    .dataframe tbody tr th {\n",
       "        vertical-align: top;\n",
       "    }\n",
       "\n",
       "    .dataframe thead th {\n",
       "        text-align: right;\n",
       "    }\n",
       "</style>\n",
       "<table border=\"1\" class=\"dataframe\">\n",
       "  <thead>\n",
       "    <tr style=\"text-align: right;\">\n",
       "      <th>crew</th>\n",
       "      <th>free ticket</th>\n",
       "      <th>paid ticket</th>\n",
       "      <th>All</th>\n",
       "    </tr>\n",
       "    <tr>\n",
       "      <th>survived</th>\n",
       "      <th></th>\n",
       "      <th></th>\n",
       "      <th></th>\n",
       "    </tr>\n",
       "  </thead>\n",
       "  <tbody>\n",
       "    <tr>\n",
       "      <th>did not survived</th>\n",
       "      <td>613</td>\n",
       "      <td>6</td>\n",
       "      <td>619</td>\n",
       "    </tr>\n",
       "    <tr>\n",
       "      <th>survived</th>\n",
       "      <td>425</td>\n",
       "      <td>2</td>\n",
       "      <td>427</td>\n",
       "    </tr>\n",
       "    <tr>\n",
       "      <th>All</th>\n",
       "      <td>1038</td>\n",
       "      <td>8</td>\n",
       "      <td>1046</td>\n",
       "    </tr>\n",
       "  </tbody>\n",
       "</table>\n",
       "</div>"
      ],
      "text/plain": [
       "crew              free ticket  paid ticket   All\n",
       "survived                                        \n",
       "did not survived          613            6   619\n",
       "survived                  425            2   427\n",
       "All                      1038            8  1046"
      ]
     },
     "execution_count": 43,
     "metadata": {},
     "output_type": "execute_result"
    }
   ],
   "source": [
    "pd.crosstab(ttc['survived'], ttc['crew'], margins = True)\n",
    "#Passengers who didn't paid for their ticket did not survived the most, and those who paid theirs survived the least"
   ]
  },
  {
   "cell_type": "code",
   "execution_count": 44,
   "id": "881c6804",
   "metadata": {},
   "outputs": [
    {
     "data": {
      "text/html": [
       "<div>\n",
       "<style scoped>\n",
       "    .dataframe tbody tr th:only-of-type {\n",
       "        vertical-align: middle;\n",
       "    }\n",
       "\n",
       "    .dataframe tbody tr th {\n",
       "        vertical-align: top;\n",
       "    }\n",
       "\n",
       "    .dataframe thead th {\n",
       "        text-align: right;\n",
       "    }\n",
       "</style>\n",
       "<table border=\"1\" class=\"dataframe\">\n",
       "  <thead>\n",
       "    <tr style=\"text-align: right;\">\n",
       "      <th>has caregiver</th>\n",
       "      <th>no</th>\n",
       "      <th>yes</th>\n",
       "      <th>All</th>\n",
       "    </tr>\n",
       "    <tr>\n",
       "      <th>survived</th>\n",
       "      <th></th>\n",
       "      <th></th>\n",
       "      <th></th>\n",
       "    </tr>\n",
       "  </thead>\n",
       "  <tbody>\n",
       "    <tr>\n",
       "      <th>did not survived</th>\n",
       "      <td>580</td>\n",
       "      <td>39</td>\n",
       "      <td>619</td>\n",
       "    </tr>\n",
       "    <tr>\n",
       "      <th>survived</th>\n",
       "      <td>375</td>\n",
       "      <td>52</td>\n",
       "      <td>427</td>\n",
       "    </tr>\n",
       "    <tr>\n",
       "      <th>All</th>\n",
       "      <td>955</td>\n",
       "      <td>91</td>\n",
       "      <td>1046</td>\n",
       "    </tr>\n",
       "  </tbody>\n",
       "</table>\n",
       "</div>"
      ],
      "text/plain": [
       "has caregiver      no  yes   All\n",
       "survived                        \n",
       "did not survived  580   39   619\n",
       "survived          375   52   427\n",
       "All               955   91  1046"
      ]
     },
     "execution_count": 44,
     "metadata": {},
     "output_type": "execute_result"
    }
   ],
   "source": [
    "pd.crosstab(ttc['survived'], ttc['has caregiver'], margins = True)\n",
    "\n",
    "#most survivors had no caregiver, and the ones who did not survived the least had caregiver"
   ]
  },
  {
   "cell_type": "code",
   "execution_count": 45,
   "id": "c7cb703a",
   "metadata": {},
   "outputs": [
    {
     "data": {
      "text/plain": [
       "survived\n",
       "did not survived    25.161920\n",
       "survived            53.384134\n",
       "Name: fare, dtype: float64"
      ]
     },
     "execution_count": 45,
     "metadata": {},
     "output_type": "execute_result"
    }
   ],
   "source": [
    "ttc['fare'].groupby(ttc['survived']).mean()\n",
    "\n",
    "#Out of the passengers that paid for their ticket, the ones who survived paid on avg more than their counterparts"
   ]
  },
  {
   "cell_type": "code",
   "execution_count": 46,
   "id": "826b1444",
   "metadata": {},
   "outputs": [
    {
     "data": {
      "text/html": [
       "<div>\n",
       "<style scoped>\n",
       "    .dataframe tbody tr th:only-of-type {\n",
       "        vertical-align: middle;\n",
       "    }\n",
       "\n",
       "    .dataframe tbody tr th {\n",
       "        vertical-align: top;\n",
       "    }\n",
       "\n",
       "    .dataframe thead th {\n",
       "        text-align: right;\n",
       "    }\n",
       "</style>\n",
       "<table border=\"1\" class=\"dataframe\">\n",
       "  <thead>\n",
       "    <tr style=\"text-align: right;\">\n",
       "      <th>embarked</th>\n",
       "      <th>Cherbourg</th>\n",
       "      <th>Queenstown</th>\n",
       "      <th>Southhampton</th>\n",
       "      <th>All</th>\n",
       "    </tr>\n",
       "    <tr>\n",
       "      <th>survived</th>\n",
       "      <th></th>\n",
       "      <th></th>\n",
       "      <th></th>\n",
       "      <th></th>\n",
       "    </tr>\n",
       "  </thead>\n",
       "  <tbody>\n",
       "    <tr>\n",
       "      <th>did not survived</th>\n",
       "      <td>80</td>\n",
       "      <td>37</td>\n",
       "      <td>502</td>\n",
       "      <td>619</td>\n",
       "    </tr>\n",
       "    <tr>\n",
       "      <th>survived</th>\n",
       "      <td>132</td>\n",
       "      <td>13</td>\n",
       "      <td>282</td>\n",
       "      <td>427</td>\n",
       "    </tr>\n",
       "    <tr>\n",
       "      <th>All</th>\n",
       "      <td>212</td>\n",
       "      <td>50</td>\n",
       "      <td>784</td>\n",
       "      <td>1046</td>\n",
       "    </tr>\n",
       "  </tbody>\n",
       "</table>\n",
       "</div>"
      ],
      "text/plain": [
       "embarked          Cherbourg  Queenstown  Southhampton   All\n",
       "survived                                                   \n",
       "did not survived         80          37           502   619\n",
       "survived                132          13           282   427\n",
       "All                     212          50           784  1046"
      ]
     },
     "execution_count": 46,
     "metadata": {},
     "output_type": "execute_result"
    }
   ],
   "source": [
    "pd.crosstab(ttc['survived'], ttc['embarked'], margins = True)\n",
    "\n",
    "#"
   ]
  },
  {
   "cell_type": "code",
   "execution_count": 47,
   "id": "a61a7650",
   "metadata": {},
   "outputs": [
    {
     "data": {
      "text/html": [
       "<div>\n",
       "<style scoped>\n",
       "    .dataframe tbody tr th:only-of-type {\n",
       "        vertical-align: middle;\n",
       "    }\n",
       "\n",
       "    .dataframe tbody tr th {\n",
       "        vertical-align: top;\n",
       "    }\n",
       "\n",
       "    .dataframe thead th {\n",
       "        text-align: right;\n",
       "    }\n",
       "</style>\n",
       "<table border=\"1\" class=\"dataframe\">\n",
       "  <thead>\n",
       "    <tr style=\"text-align: right;\">\n",
       "      <th></th>\n",
       "      <th>age</th>\n",
       "      <th>sibsp</th>\n",
       "      <th>parch</th>\n",
       "      <th>fare</th>\n",
       "      <th>family size</th>\n",
       "    </tr>\n",
       "  </thead>\n",
       "  <tbody>\n",
       "    <tr>\n",
       "      <th>age</th>\n",
       "      <td>1.000000</td>\n",
       "      <td>-0.243699</td>\n",
       "      <td>-0.150917</td>\n",
       "      <td>0.178229</td>\n",
       "      <td>-0.240230</td>\n",
       "    </tr>\n",
       "    <tr>\n",
       "      <th>sibsp</th>\n",
       "      <td>-0.243699</td>\n",
       "      <td>1.000000</td>\n",
       "      <td>0.374456</td>\n",
       "      <td>0.141195</td>\n",
       "      <td>0.844260</td>\n",
       "    </tr>\n",
       "    <tr>\n",
       "      <th>parch</th>\n",
       "      <td>-0.150917</td>\n",
       "      <td>0.374456</td>\n",
       "      <td>1.000000</td>\n",
       "      <td>0.216726</td>\n",
       "      <td>0.813080</td>\n",
       "    </tr>\n",
       "    <tr>\n",
       "      <th>fare</th>\n",
       "      <td>0.178229</td>\n",
       "      <td>0.141195</td>\n",
       "      <td>0.216726</td>\n",
       "      <td>1.000000</td>\n",
       "      <td>0.213911</td>\n",
       "    </tr>\n",
       "    <tr>\n",
       "      <th>family size</th>\n",
       "      <td>-0.240230</td>\n",
       "      <td>0.844260</td>\n",
       "      <td>0.813080</td>\n",
       "      <td>0.213911</td>\n",
       "      <td>1.000000</td>\n",
       "    </tr>\n",
       "  </tbody>\n",
       "</table>\n",
       "</div>"
      ],
      "text/plain": [
       "                  age     sibsp     parch      fare  family size\n",
       "age          1.000000 -0.243699 -0.150917  0.178229    -0.240230\n",
       "sibsp       -0.243699  1.000000  0.374456  0.141195     0.844260\n",
       "parch       -0.150917  0.374456  1.000000  0.216726     0.813080\n",
       "fare         0.178229  0.141195  0.216726  1.000000     0.213911\n",
       "family size -0.240230  0.844260  0.813080  0.213911     1.000000"
      ]
     },
     "execution_count": 47,
     "metadata": {},
     "output_type": "execute_result"
    }
   ],
   "source": [
    "ttc.corr()"
   ]
  },
  {
   "cell_type": "markdown",
   "id": "43e999a3",
   "metadata": {},
   "source": [
    "### Visualize your Results\n",
    "\n",
    "* Using the most interesting (from your POV) results from the above section, create (3) visualizations to illustrate the results. \n",
    "* Create a barplot to show the variation in average age across passenger class. On average, which passenger class has the oldest passengers?\n",
    "* Create a violin plot to show the distribution of age across passenger class. "
   ]
  },
  {
   "cell_type": "code",
   "execution_count": 48,
   "id": "e195f1ab",
   "metadata": {},
   "outputs": [
    {
     "data": {
      "text/plain": [
       "(1046, 16)"
      ]
     },
     "execution_count": 48,
     "metadata": {},
     "output_type": "execute_result"
    }
   ],
   "source": [
    "ttc.shape"
   ]
  },
  {
   "cell_type": "markdown",
   "id": "40c41117",
   "metadata": {},
   "source": [
    "### Visualization 1"
   ]
  },
  {
   "cell_type": "code",
   "execution_count": 49,
   "id": "0b6a1fbf",
   "metadata": {},
   "outputs": [
    {
     "data": {
      "text/plain": [
       "Text(0.5, 1.0, 'Family size Statistic by survived and gender')"
      ]
     },
     "execution_count": 49,
     "metadata": {},
     "output_type": "execute_result"
    },
    {
     "data": {
      "image/png": "[encoded data removed]",
      "text/plain": [
       "<Figure size 1440x720 with 1 Axes>"
      ]
     },
     "metadata": {
      "needs_background": "light"
     },
     "output_type": "display_data"
    }
   ],
   "source": [
    "#Survival by gender \n",
    "\n",
    "plt.figure(figsize=(20,10))\n",
    "\n",
    "sns.barplot(data = ttc, x = \"sex\", y = \"family size\", hue = \"survived\", ci = None)\n",
    "\n",
    "plt.xticks(rotation = -20)\n",
    "plt.title('Family size Statistic by survived and gender')\n",
    "#plt.legend()"
   ]
  },
  {
   "cell_type": "markdown",
   "id": "b44945eb",
   "metadata": {},
   "source": [
    "### Visualization 2"
   ]
  },
  {
   "cell_type": "code",
   "execution_count": 50,
   "id": "3586a8ff",
   "metadata": {},
   "outputs": [
    {
     "data": {
      "text/plain": [
       "Text(0.5, 1.0, 'Survival statistics by passenger class')"
      ]
     },
     "execution_count": 50,
     "metadata": {},
     "output_type": "execute_result"
    },
    {
     "data": {
      "image/png": "[encoded data removed]",
      "text/plain": [
       "<Figure size 1440x720 with 1 Axes>"
      ]
     },
     "metadata": {
      "needs_background": "light"
     },
     "output_type": "display_data"
    }
   ],
   "source": [
    "#survival by passenger class\n",
    "\n",
    "plt.figure(figsize=(20,10))\n",
    "\n",
    "sns.countplot(data = ttc, x = \"survived\", hue = \"pclass\")\n",
    "\n",
    "plt.xticks(rotation = -45)\n",
    "plt.title('Survival statistics by passenger class')"
   ]
  },
  {
   "cell_type": "markdown",
   "id": "24a46c2f",
   "metadata": {},
   "source": [
    "### Visualization 3"
   ]
  },
  {
   "cell_type": "code",
   "execution_count": 53,
   "id": "2b21e07f",
   "metadata": {},
   "outputs": [
    {
     "data": {
      "image/png": "[encoded data removed]",
      "text/plain": [
       "<Figure size 432x288 with 1 Axes>"
      ]
     },
     "metadata": {
      "needs_background": "light"
     },
     "output_type": "display_data"
    }
   ],
   "source": [
    "## survival by family size\n",
    "\n",
    "sns.barplot(data = ttc, x = \"survived\", y = 'family size', ci = None)\n",
    "\n",
    "plt.title('Average Age by Survival')\n",
    "plt.minorticks_on() "
   ]
  },
  {
   "cell_type": "code",
   "execution_count": 54,
   "id": "6bfd1945",
   "metadata": {},
   "outputs": [
    {
     "data": {
      "text/plain": [
       "Text(0.5, 1.0, 'Passenger Class Statistic by age')"
      ]
     },
     "execution_count": 54,
     "metadata": {},
     "output_type": "execute_result"
    },
    {
     "data": {
      "image/png": "[encoded data removed]",
      "text/plain": [
       "<Figure size 1440x720 with 1 Axes>"
      ]
     },
     "metadata": {
      "needs_background": "light"
     },
     "output_type": "display_data"
    }
   ],
   "source": [
    "#Create a barplot to show the variation in average age across passenger class. \n",
    "#On average, which passenger class has the oldest passengers?\n",
    "plt.figure(figsize=(20,10))\n",
    "\n",
    "sns.barplot(data = ttc, x = \"pclass\", y = \"age\", ci = None)\n",
    "\n",
    "plt.xticks(rotation = -45)\n",
    "plt.title('Passenger Class Statistic by age')\n",
    "\n",
    "#The first class has the oldest passengers"
   ]
  },
  {
   "cell_type": "code",
   "execution_count": 55,
   "id": "dd7dfdb4",
   "metadata": {},
   "outputs": [
    {
     "data": {
      "text/plain": [
       "<AxesSubplot:xlabel='pclass', ylabel='age'>"
      ]
     },
     "execution_count": 55,
     "metadata": {},
     "output_type": "execute_result"
    },
    {
     "data": {
      "image/png": "[encoded data removed]",
      "text/plain": [
       "<Figure size 432x288 with 1 Axes>"
      ]
     },
     "metadata": {
      "needs_background": "light"
     },
     "output_type": "display_data"
    }
   ],
   "source": [
    "#Create a violin plot to show the distribution of age across passenger class. \n",
    "\n",
    "sns.violinplot(x = ttc[\"pclass\"], y = ttc[\"age\"])"
   ]
  },
  {
   "cell_type": "code",
   "execution_count": null,
   "id": "72838f46",
   "metadata": {},
   "outputs": [],
   "source": []
  }
 ],
 "metadata": {
  "kernelspec": {
   "display_name": "Python 3 (ipykernel)",
   "language": "python",
   "name": "python3"
  },
  "language_info": {
   "codemirror_mode": {
    "name": "ipython",
    "version": 3
   },
   "file_extension": ".py",
   "mimetype": "text/x-python",
   "name": "python",
   "nbconvert_exporter": "python",
   "pygments_lexer": "ipython3",
   "version": "3.9.7"
  }
 },
 "nbformat": 4,
 "nbformat_minor": 5
}
